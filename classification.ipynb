{
 "cells": [
  {
   "cell_type": "code",
   "execution_count": null,
   "id": "eed019fb",
   "metadata": {},
   "outputs": [],
   "source": [
    "import matplotlib.pyplot as plt\n",
    "import numpy as np\n",
    "import os\n",
    "import PIL\n",
    "import tensorflow as tf\n",
    "\n",
    "from tensorflow import keras\n",
    "from tensorflow.keras import layers\n",
    "from tensorflow.keras.models import Sequential\n",
    "import pathlib"
   ]
  },
  {
   "cell_type": "code",
   "execution_count": null,
   "id": "26c56b81",
   "metadata": {},
   "outputs": [],
   "source": [
    "#new\n",
    "def learnClasses1(train_ds,val_ds,nEpochs=32,cw = {}):\n",
    "  \n",
    "   earlystop = tf.keras.callbacks.EarlyStopping(monitor = 'val_loss',min_delta = 0,patience = 20, verbose = 1,restore_best_weights = True)\n",
    "   \n",
    "  \n",
    "   inputs = tf.keras.Input(shape = (img_height,img_width,1))\n",
    "   x = data_augmentation(inputs)\n",
    "   x = tf.keras.layers.Rescaling(1.0 / 255)(x)\n",
    "   x= tf.keras.layers.Conv2D(32, 3, activation='relu')(x)\n",
    "   x = tf.keras.layers.MaxPooling2D()(x)\n",
    "   x = tf.keras.layers.Conv2D(32, 3, activation='relu')(x)\n",
    "   x = tf.keras.layers.MaxPooling2D()(x)\n",
    "   x = tf.keras.layers.Conv2D(64, 3, activation='relu')(x)\n",
    "   x =  tf.keras.layers.MaxPooling2D()(x)\n",
    "   x = tf.keras.layers.Flatten()(x)\n",
    "   x = tf.keras.layers.Dense(128, activation='relu')(x)\n",
    "   outputs = tf.keras.layers.Dense(num_classes,activation=\"softmax\")(x)\n",
    "  \n",
    "   model = tf.keras.Model(inputs=inputs,outputs = outputs)\n",
    "  \n",
    "   optimizer = 'adam'\n",
    "  \n",
    "   # model.compile(optimizer='adam',loss=tf.keras.losses.CategoricalCrossentropy(),metrics=['accuracy'])\n",
    "   model.compile(optimizer='adam',loss=tf.keras.losses.SparseCategoricalCrossentropy(from_logits=False),metrics=['accuracy'])\n",
    "   model.summary()\n",
    "   history = model.fit(train_ds, epochs=nEpochs, validation_data=val_ds, verbose=1,class_weight=cw,callbacks=[earlystop])\n",
    "\n",
    "   hd = history.history\n",
    "   lv = hd['loss']\n",
    "   lv1 = hd['val_loss']\n",
    "   acc = hd['accuracy']\n",
    "   acc1 = hd['val_accuracy']\n",
    "   epochs = range(1,len(lv)+1)\n",
    "   plt.figure(1)\n",
    "   plt.clf()\n",
    "   plt.subplot(2,1,2)\n",
    "   plt.plot(epochs,acc,'o-')\n",
    "   plt.plot(epochs,acc1,'o-')\n",
    "   plt.subplot(2,1,1)\n",
    "   plt.plot(epochs,lv,'o-')\n",
    "   plt.plot(epochs,lv1,'o-')\n",
    "   return model"
   ]
  },
  {
   "cell_type": "code",
   "execution_count": null,
   "id": "abd30d15",
   "metadata": {},
   "outputs": [],
   "source": []
  },
  {
   "cell_type": "code",
   "execution_count": null,
   "id": "4970ac93",
   "metadata": {},
   "outputs": [],
   "source": [
    "data_augmentation = tf.keras.Sequential(\n",
    "    [\n",
    "        tf.keras.layers.RandomFlip(\"horizontal\"),\n",
    "        tf.keras.layers.RandomRotation(0.1),\n",
    "    ]\n",
    ")"
   ]
  },
  {
   "cell_type": "code",
   "execution_count": null,
   "id": "c0ed58f1",
   "metadata": {},
   "outputs": [],
   "source": []
  },
  {
   "cell_type": "code",
   "execution_count": null,
   "id": "a6fe529b",
   "metadata": {},
   "outputs": [],
   "source": [
    "import pathlib\n",
    "#dataset_url = \".keras\\\\datasets\\\\types recepteurs\"\n",
    "data_dir = \".keras\\\\datasets\\\\types recepteurs\"\n",
    "data_dir = pathlib.Path(data_dir)"
   ]
  },
  {
   "cell_type": "code",
   "execution_count": null,
   "id": "010c2939",
   "metadata": {},
   "outputs": [],
   "source": [
    "image_count = len(list(data_dir.glob('*\\*.png')))\n",
    "#print(data_dir)\n",
    "print(image_count)"
   ]
  },
  {
   "cell_type": "code",
   "execution_count": null,
   "id": "e9fa7c20",
   "metadata": {},
   "outputs": [],
   "source": [
    "batch_size = 32\n",
    "img_height = 60\n",
    "img_width = 60"
   ]
  },
  {
   "cell_type": "code",
   "execution_count": null,
   "id": "130768c7",
   "metadata": {},
   "outputs": [],
   "source": [
    "train_ds = tf.keras.utils.image_dataset_from_directory(\n",
    "  data_dir,\n",
    "  validation_split=0.2,\n",
    "  subset=\"training\",\n",
    "  seed=123,\n",
    "  color_mode=\"grayscale\",\n",
    "  label_mode=\"int\",\n",
    "  image_size=(img_height, img_width),\n",
    "  batch_size=batch_size)"
   ]
  },
  {
   "cell_type": "code",
   "execution_count": null,
   "id": "321a58d4",
   "metadata": {},
   "outputs": [],
   "source": [
    "val_ds = tf.keras.utils.image_dataset_from_directory(\n",
    "  data_dir,\n",
    "  validation_split=0.2,\n",
    "  subset=\"validation\",\n",
    "  seed=123,\n",
    "  color_mode=\"grayscale\",\n",
    "  label_mode=\"int\",\n",
    "  image_size=(img_height, img_width),\n",
    "  batch_size=batch_size)"
   ]
  },
  {
   "cell_type": "code",
   "execution_count": null,
   "id": "41c47ade",
   "metadata": {},
   "outputs": [],
   "source": [
    "class_names = train_ds.class_names\n",
    "print(class_names)"
   ]
  },
  {
   "cell_type": "code",
   "execution_count": null,
   "id": "b6e72ed7",
   "metadata": {},
   "outputs": [],
   "source": [
    "import matplotlib.pyplot as plt\n",
    "\n",
    "plt.figure(figsize=(10, 10))\n",
    "for images, labels in train_ds.take(1):\n",
    "  for i in range(9):\n",
    "    ax = plt.subplot(3, 3, i + 1)\n",
    "    plt.imshow(images[i].numpy().astype(\"uint8\"))\n",
    "    plt.title(class_names[labels[i]])\n",
    "    plt.axis(\"off\")"
   ]
  },
  {
   "cell_type": "code",
   "execution_count": null,
   "id": "f954fe31",
   "metadata": {},
   "outputs": [],
   "source": [
    "for image_batch, labels_batch in train_ds:\n",
    "  print(image_batch.shape)\n",
    "  print(labels_batch.shape)\n",
    "  break"
   ]
  },
  {
   "cell_type": "code",
   "execution_count": null,
   "id": "33d6c72a",
   "metadata": {},
   "outputs": [],
   "source": [
    "AUTOTUNE = tf.data.AUTOTUNE\n",
    "\n",
    "train_ds = train_ds.cache().shuffle(1000).prefetch(buffer_size=AUTOTUNE)\n",
    "val_ds = val_ds.cache().prefetch(buffer_size=AUTOTUNE)"
   ]
  },
  {
   "cell_type": "code",
   "execution_count": null,
   "id": "49d28e65",
   "metadata": {},
   "outputs": [],
   "source": [
    "normalization_layer = layers.Rescaling(1./255)"
   ]
  },
  {
   "cell_type": "code",
   "execution_count": null,
   "id": "a537cd9c",
   "metadata": {},
   "outputs": [],
   "source": [
    "normalized_ds = train_ds.map(lambda x, y: (normalization_layer(x), y))\n",
    "image_batch, labels_batch = next(iter(normalized_ds))\n",
    "first_image = image_batch[0]\n",
    "# Notice the pixel values are now in `[0,1]`.\n",
    "print(np.min(first_image), np.max(first_image))"
   ]
  },
  {
   "cell_type": "code",
   "execution_count": null,
   "id": "19d49edb",
   "metadata": {},
   "outputs": [],
   "source": [
    "#new\n",
    "num_classes = len(class_names)\n",
    "model=learnClasses1(train_ds,val_ds,nEpochs=32,cw = {})"
   ]
  },
  {
   "cell_type": "code",
   "execution_count": null,
   "id": "fd8cac26",
   "metadata": {
    "collapsed": true
   },
   "outputs": [],
   "source": [
    "rootdir = \"data\"\n",
    "liste = []\n",
    "for subdir, dirs, files in os.walk(rootdir):    \n",
    "    for file in files:\n",
    "        #print os.path.join(subdir, file)\n",
    "        filepath = subdir + os.sep + file\n",
    "\n",
    "        if filepath.endswith(\".png\"):            \n",
    "            #print (filepath)\n",
    "            liste.append(filepath)\n",
    "print(liste)\n",
    "          "
   ]
  },
  {
   "cell_type": "code",
   "execution_count": null,
   "id": "527599e8",
   "metadata": {},
   "outputs": [],
   "source": [
    "#new\n",
    "def getLabels(trainedModel, nameList, color_mode='grayscale'):\n",
    "    ll=[]\n",
    "    for nn in nameList:\n",
    "        nnn=nn\n",
    "        ii=tf.keras.utils.load_img(nnn,color_mode=color_mode, target_size=(img_width, img_height))\n",
    "        ll.append(ii)\n",
    "    label_list=[]\n",
    "    for im in ll:\n",
    "        tt=tf.keras.preprocessing.image.img_to_array(im)\n",
    "        tt=tf.expand_dims(tt,0)\n",
    "        rr=trainedModel.predict(tt)\n",
    "        ind=rr[0].argmax()\n",
    "        label_list.append(ind)\n",
    "    return label_list"
   ]
  },
  {
   "cell_type": "code",
   "execution_count": null,
   "id": "43dd38e0",
   "metadata": {},
   "outputs": [],
   "source": [
    "list=getLabels(model, liste[0:100000])"
   ]
  },
  {
   "cell_type": "code",
   "execution_count": null,
   "id": "2734af69",
   "metadata": {},
   "outputs": [],
   "source": [
    "list"
   ]
  },
  {
   "cell_type": "code",
   "execution_count": null,
   "id": "099f8a4e",
   "metadata": {},
   "outputs": [],
   "source": []
  },
  {
   "cell_type": "code",
   "execution_count": null,
   "id": "007284a7",
   "metadata": {},
   "outputs": [],
   "source": []
  },
  {
   "cell_type": "code",
   "execution_count": null,
   "id": "44cd9dbd",
   "metadata": {},
   "outputs": [],
   "source": []
  },
  {
   "cell_type": "code",
   "execution_count": null,
   "id": "e8a5636c",
   "metadata": {},
   "outputs": [],
   "source": []
  },
  {
   "cell_type": "code",
   "execution_count": null,
   "id": "4176c151",
   "metadata": {},
   "outputs": [],
   "source": []
  },
  {
   "cell_type": "code",
   "execution_count": null,
   "id": "0609bc96",
   "metadata": {},
   "outputs": [],
   "source": []
  }
 ],
 "metadata": {
  "kernelspec": {
   "display_name": "Python 3 (ipykernel)",
   "language": "python",
   "name": "python3"
  },
  "language_info": {
   "codemirror_mode": {
    "name": "ipython",
    "version": 3
   },
   "file_extension": ".py",
   "mimetype": "text/x-python",
   "name": "python",
   "nbconvert_exporter": "python",
   "pygments_lexer": "ipython3",
   "version": "3.9.7"
  }
 },
 "nbformat": 4,
 "nbformat_minor": 5
}
